{
 "cells": [
  {
   "cell_type": "markdown",
   "metadata": {},
   "source": [
    "# Pretty-printing DNA and protein sequences with `monoseq`"
   ]
  },
  {
   "cell_type": "markdown",
   "metadata": {},
   "source": [
    "[`monoseq`](https://github.com/martijnvermaat/monoseq/) is a Python library for pretty-printing DNA and protein sequences using a monospace font. It also provides a simple command line interface.\n",
    "\n",
    "Sequences are pretty-printed in the traditional way using blocks of letters where each line is prefixed with the sequence position. User-specified regions are highlighted and the output format can be HTML or plaintext with optional styling using ANSI escape codes for use in a terminal.\n",
    "\n",
    "Here we show how `monoseq` can be used in the IPython Notebook environment. See the `monoseq` [documentation](https://monoseq.readthedocs.org/) for more.\n",
    "\n",
    "**Note:** Some applications (e.g., GitHub) will not show the annotation styling in this notebook. [View this notebook on nbviewer](http://nbviewer.ipython.org/github/martijnvermaat/monoseq/blob/master/doc/monoseq.ipynb) to see all styling."
   ]
  },
  {
   "cell_type": "markdown",
   "metadata": {},
   "source": [
    "## Use in the IPython Notebook"
   ]
  },
  {
   "cell_type": "markdown",
   "metadata": {},
   "source": [
    "If you haven't already done so, install `monoseq` using `pip`.\n",
    "\n",
    "    pip install monoseq\n",
    "\n",
    "The `monoseq.ipynb` module provides `Seq`, a convenience wrapper around `monoseq.pprint_sequence` providing easy printing of sequence strings in an IPython Notebook."
   ]
  },
  {
   "cell_type": "code",
   "execution_count": 1,
   "metadata": {
    "collapsed": false
   },
   "outputs": [
    {
     "data": {
      "text/html": [
       "<style>\n",
       "#monoseq-3b083194 {\n",
       "    background: white;\n",
       "    color: black;\n",
       "    font-weight: normal;\n",
       "    text-decoration: none;\n",
       "}\n",
       "#monoseq-3b083194 .monoseq-margin {\n",
       "    color: grey;\n",
       "}\n",
       "#monoseq-3b083194 .monoseq-annotation-0 {\n",
       "    color: red;\n",
       "}\n",
       "#monoseq-3b083194 .monoseq-annotation-1 {\n",
       "    background: black;\n",
       "    color: white;\n",
       "}\n",
       "#monoseq-3b083194 .monoseq-annotation-1 .monoseq-annotation-0 {\n",
       "    background: red;\n",
       "    color: white;\n",
       "}\n",
       "#monoseq-3b083194 .monoseq-annotation-2 {\n",
       "    text-decoration: underline;\n",
       "}\n",
       "#monoseq-3b083194 .monoseq-annotation-3 {\n",
       "    font-weight: bold;\n",
       "}\n",
       "</style><pre id=\"monoseq-3b083194\">  <span class=\"monoseq-margin\">1</span>  cgcactcaaa acaaaggaag accgtcctcg actgcagagg aagcaggaag ctgtcggccc\n",
       " <span class=\"monoseq-margin\">61</span>  agctctgagc ccagctgctg gagccccgag cagcggcatg gagtccgtgg ccctgtacag\n",
       "<span class=\"monoseq-margin\">121</span>  ctttcaggct acagagagcg acgagctggc cttcaacaag ggagacacac tcaagatcct\n",
       "<span class=\"monoseq-margin\">181</span>  gaacatggag gatgaccaga actggtacaa ggccgagctc cggggtgtcg agggatttat\n",
       "<span class=\"monoseq-margin\">241</span>  tcccaagaac tacatccgcg tcaag</pre>"
      ],
      "text/plain": [
       "<IPython.core.display.HTML object>"
      ]
     },
     "execution_count": 1,
     "metadata": {},
     "output_type": "execute_result"
    }
   ],
   "source": [
    "from monoseq.ipynb import Seq\n",
    "\n",
    "s = ('cgcactcaaaacaaaggaagaccgtcctcgactgcagaggaagcaggaagctgtc'\n",
    "     'ggcccagctctgagcccagctgctggagccccgagcagcggcatggagtccgtgg'\n",
    "     'ccctgtacagctttcaggctacagagagcgacgagctggccttcaacaagggaga'\n",
    "     'cacactcaagatcctgaacatggaggatgaccagaactggtacaaggccgagctc'\n",
    "     'cggggtgtcgagggatttattcccaagaactacatccgcgtcaag')\n",
    "\n",
    "Seq(s)"
   ]
  },
  {
   "cell_type": "markdown",
   "metadata": {},
   "source": [
    "### Block and line lengths"
   ]
  },
  {
   "cell_type": "markdown",
   "metadata": {},
   "source": [
    "We can change the number of characters per block and the number of blocks per line."
   ]
  },
  {
   "cell_type": "code",
   "execution_count": 2,
   "metadata": {
    "collapsed": false
   },
   "outputs": [
    {
     "data": {
      "text/html": [
       "<style>\n",
       "#monoseq-1977972e {\n",
       "    background: white;\n",
       "    color: black;\n",
       "    font-weight: normal;\n",
       "    text-decoration: none;\n",
       "}\n",
       "#monoseq-1977972e .monoseq-margin {\n",
       "    color: grey;\n",
       "}\n",
       "#monoseq-1977972e .monoseq-annotation-0 {\n",
       "    color: red;\n",
       "}\n",
       "#monoseq-1977972e .monoseq-annotation-1 {\n",
       "    background: black;\n",
       "    color: white;\n",
       "}\n",
       "#monoseq-1977972e .monoseq-annotation-1 .monoseq-annotation-0 {\n",
       "    background: red;\n",
       "    color: white;\n",
       "}\n",
       "#monoseq-1977972e .monoseq-annotation-2 {\n",
       "    text-decoration: underline;\n",
       "}\n",
       "#monoseq-1977972e .monoseq-annotation-3 {\n",
       "    font-weight: bold;\n",
       "}\n",
       "</style><pre id=\"monoseq-1977972e\">  <span class=\"monoseq-margin\">1</span>  cgcactca aaacaaag gaagaccg tcctcgac tgcagagg aagcagga agctgtcg gcccagct\n",
       " <span class=\"monoseq-margin\">65</span>  ctgagccc agctgctg gagccccg agcagcgg catggagt ccgtggcc ctgtacag ctttcagg\n",
       "<span class=\"monoseq-margin\">129</span>  ctacagag agcgacga gctggcct tcaacaag ggagacac actcaaga tcctgaac atggagga\n",
       "<span class=\"monoseq-margin\">193</span>  tgaccaga actggtac aaggccga gctccggg gtgtcgag ggatttat tcccaaga actacatc\n",
       "<span class=\"monoseq-margin\">257</span>  cgcgtcaa g</pre>"
      ],
      "text/plain": [
       "<IPython.core.display.HTML object>"
      ]
     },
     "execution_count": 2,
     "metadata": {},
     "output_type": "execute_result"
    }
   ],
   "source": [
    "Seq(s, block_length=8, blocks_per_line=8)"
   ]
  },
  {
   "cell_type": "markdown",
   "metadata": {},
   "source": [
    "### Annotations"
   ]
  },
  {
   "cell_type": "markdown",
   "metadata": {},
   "source": [
    "Let's say we want to highlight two subsequences because they are conserved between species. We define each region as a tuple *start,stop* (zero-based, stop not included) and include this in the *annotation* argument."
   ]
  },
  {
   "cell_type": "code",
   "execution_count": 3,
   "metadata": {
    "collapsed": false
   },
   "outputs": [
    {
     "data": {
      "text/html": [
       "<style>\n",
       "#monoseq-92814d1f {\n",
       "    background: white;\n",
       "    color: black;\n",
       "    font-weight: normal;\n",
       "    text-decoration: none;\n",
       "}\n",
       "#monoseq-92814d1f .monoseq-margin {\n",
       "    color: grey;\n",
       "}\n",
       "#monoseq-92814d1f .monoseq-annotation-0 {\n",
       "    color: red;\n",
       "}\n",
       "#monoseq-92814d1f .monoseq-annotation-1 {\n",
       "    background: black;\n",
       "    color: white;\n",
       "}\n",
       "#monoseq-92814d1f .monoseq-annotation-1 .monoseq-annotation-0 {\n",
       "    background: red;\n",
       "    color: white;\n",
       "}\n",
       "#monoseq-92814d1f .monoseq-annotation-2 {\n",
       "    text-decoration: underline;\n",
       "}\n",
       "#monoseq-92814d1f .monoseq-annotation-3 {\n",
       "    font-weight: bold;\n",
       "}\n",
       "</style><pre id=\"monoseq-92814d1f\">  <span class=\"monoseq-margin\">1</span>  cgcactcaaa a<span class=\"monoseq-annotation-0\">caaaggaag</span> <span class=\"monoseq-annotation-0\">accgtcctcg</span> <span class=\"monoseq-annotation-0\">actgcag</span>agg aagcaggaag ctgtcggccc\n",
       " <span class=\"monoseq-margin\">61</span>  agctctgagc ccagctgctg gagccccgag cagcggcatg gagtccgtgg ccctgtacag\n",
       "<span class=\"monoseq-margin\">121</span>  ctttcaggct acagagagcg acgagctggc cttcaacaag ggagacacac tcaagatcct\n",
       "<span class=\"monoseq-margin\">181</span>  gaacatggag gatgaccaga actggtacaa ggccgagctc cg<span class=\"monoseq-annotation-0\">gggtgtcg</span> <span class=\"monoseq-annotation-0\">agggatttat</span>\n",
       "<span class=\"monoseq-margin\">241</span>  <span class=\"monoseq-annotation-0\">tcccaag</span>aac tacatccgcg tcaag</pre>"
      ],
      "text/plain": [
       "<IPython.core.display.HTML object>"
      ]
     },
     "execution_count": 3,
     "metadata": {},
     "output_type": "execute_result"
    }
   ],
   "source": [
    "conserved = [(11, 37), (222, 247)]\n",
    "\n",
    "Seq(s, annotations=[conserved])"
   ]
  },
  {
   "cell_type": "markdown",
   "metadata": {},
   "source": [
    "As a contrived example to show several levels of annotation, let's also annotate every 12th character and the middle third of the sequence."
   ]
  },
  {
   "cell_type": "code",
   "execution_count": 4,
   "metadata": {
    "collapsed": false
   },
   "outputs": [
    {
     "data": {
      "text/html": [
       "<style>\n",
       "#monoseq-731a43fb {\n",
       "    background: white;\n",
       "    color: black;\n",
       "    font-weight: normal;\n",
       "    text-decoration: none;\n",
       "}\n",
       "#monoseq-731a43fb .monoseq-margin {\n",
       "    color: grey;\n",
       "}\n",
       "#monoseq-731a43fb .monoseq-annotation-0 {\n",
       "    color: red;\n",
       "}\n",
       "#monoseq-731a43fb .monoseq-annotation-1 {\n",
       "    background: black;\n",
       "    color: white;\n",
       "}\n",
       "#monoseq-731a43fb .monoseq-annotation-1 .monoseq-annotation-0 {\n",
       "    background: red;\n",
       "    color: white;\n",
       "}\n",
       "#monoseq-731a43fb .monoseq-annotation-2 {\n",
       "    text-decoration: underline;\n",
       "}\n",
       "#monoseq-731a43fb .monoseq-annotation-3 {\n",
       "    font-weight: bold;\n",
       "}\n",
       "</style><pre id=\"monoseq-731a43fb\">  <span class=\"monoseq-margin\">1</span>  cgcactcaaa a<span class=\"monoseq-annotation-1\"><span class=\"monoseq-annotation-0\">c</span></span><span class=\"monoseq-annotation-0\">aaaggaag</span> <span class=\"monoseq-annotation-0\">acc</span><span class=\"monoseq-annotation-1\"><span class=\"monoseq-annotation-0\">g</span></span><span class=\"monoseq-annotation-0\">tcctcg</span> <span class=\"monoseq-annotation-0\">actgc</span><span class=\"monoseq-annotation-1\"><span class=\"monoseq-annotation-0\">a</span></span><span class=\"monoseq-annotation-0\">g</span>agg aagcagg<span class=\"monoseq-annotation-1\">a</span>ag ctgtcggcc<span class=\"monoseq-annotation-1\">c</span>\n",
       " <span class=\"monoseq-margin\">61</span>  agctctgagc c<span class=\"monoseq-annotation-1\">c</span>agctgctg gag<span class=\"monoseq-annotation-1\">c</span>cccg<span class=\"monoseq-annotation-2\">ag</span> <span class=\"monoseq-annotation-2\">cagcg</span><span class=\"monoseq-annotation-2\"><span class=\"monoseq-annotation-1\">g</span></span><span class=\"monoseq-annotation-2\">catg</span> <span class=\"monoseq-annotation-2\">gagtccg</span><span class=\"monoseq-annotation-2\"><span class=\"monoseq-annotation-1\">t</span></span><span class=\"monoseq-annotation-2\">gg</span> <span class=\"monoseq-annotation-2\">ccctgtaca</span><span class=\"monoseq-annotation-2\"><span class=\"monoseq-annotation-1\">g</span></span>\n",
       "<span class=\"monoseq-margin\">121</span>  <span class=\"monoseq-annotation-2\">ctttcaggct</span> <span class=\"monoseq-annotation-2\">a</span><span class=\"monoseq-annotation-2\"><span class=\"monoseq-annotation-1\">c</span></span><span class=\"monoseq-annotation-2\">agagagcg</span> <span class=\"monoseq-annotation-2\">acg</span><span class=\"monoseq-annotation-2\"><span class=\"monoseq-annotation-1\">a</span></span><span class=\"monoseq-annotation-2\">gctggc</span> <span class=\"monoseq-annotation-2\">cttca</span><span class=\"monoseq-annotation-2\"><span class=\"monoseq-annotation-1\">a</span></span><span class=\"monoseq-annotation-2\">caag</span> <span class=\"monoseq-annotation-2\">ggagaca</span><span class=\"monoseq-annotation-2\"><span class=\"monoseq-annotation-1\">c</span></span><span class=\"monoseq-annotation-2\">ac</span> <span class=\"monoseq-annotation-2\">tcaaga</span>tcc<span class=\"monoseq-annotation-1\">t</span>\n",
       "<span class=\"monoseq-margin\">181</span>  gaacatggag g<span class=\"monoseq-annotation-1\">a</span>tgaccaga act<span class=\"monoseq-annotation-1\">g</span>gtacaa ggccg<span class=\"monoseq-annotation-1\">a</span>gctc cg<span class=\"monoseq-annotation-0\">gggtg</span><span class=\"monoseq-annotation-1\"><span class=\"monoseq-annotation-0\">t</span></span><span class=\"monoseq-annotation-0\">cg</span> <span class=\"monoseq-annotation-0\">agggattta</span><span class=\"monoseq-annotation-1\"><span class=\"monoseq-annotation-0\">t</span></span>\n",
       "<span class=\"monoseq-margin\">241</span>  <span class=\"monoseq-annotation-0\">tcccaag</span>aac t<span class=\"monoseq-annotation-1\">a</span>catccgcg tca<span class=\"monoseq-annotation-1\">a</span>g</pre>"
      ],
      "text/plain": [
       "<IPython.core.display.HTML object>"
      ]
     },
     "execution_count": 4,
     "metadata": {},
     "output_type": "execute_result"
    }
   ],
   "source": [
    "twelves = [(p, p + 1) for p in range(11, len(s), 12)]\n",
    "middle = [(len(s) / 3, len(s) / 3 * 2)]\n",
    "\n",
    "Seq(s, annotations=[conserved, twelves, middle])"
   ]
  },
  {
   "cell_type": "markdown",
   "metadata": {},
   "source": [
    "### Custom styling"
   ]
  },
  {
   "cell_type": "markdown",
   "metadata": {},
   "source": [
    "The default CSS that is applied can be overridden with the *style* argument."
   ]
  },
  {
   "cell_type": "code",
   "execution_count": 5,
   "metadata": {
    "collapsed": false
   },
   "outputs": [
    {
     "data": {
      "text/html": [
       "<style>\n",
       "#monoseq-c0638229 { background: beige; color: gray }\n",
       "#monoseq-c0638229 .monoseq-margin { font-style: italic; color: green }\n",
       "#monoseq-c0638229 .monoseq-annotation-0 { color: blue; font-weight: bold }\n",
       "</style><pre id=\"monoseq-c0638229\">  <span class=\"monoseq-margin\">1</span>  cgcactcaaa a<span class=\"monoseq-annotation-0\">caaaggaag</span> <span class=\"monoseq-annotation-0\">accgtcctcg</span> <span class=\"monoseq-annotation-0\">actgcag</span>agg aagcaggaag ctgtcggccc\n",
       " <span class=\"monoseq-margin\">61</span>  agctctgagc ccagctgctg gagccccgag cagcggcatg gagtccgtgg ccctgtacag\n",
       "<span class=\"monoseq-margin\">121</span>  ctttcaggct acagagagcg acgagctggc cttcaacaag ggagacacac tcaagatcct\n",
       "<span class=\"monoseq-margin\">181</span>  gaacatggag gatgaccaga actggtacaa ggccgagctc cg<span class=\"monoseq-annotation-0\">gggtgtcg</span> <span class=\"monoseq-annotation-0\">agggatttat</span>\n",
       "<span class=\"monoseq-margin\">241</span>  <span class=\"monoseq-annotation-0\">tcccaag</span>aac tacatccgcg tcaag</pre>"
      ],
      "text/plain": [
       "<IPython.core.display.HTML object>"
      ]
     },
     "execution_count": 5,
     "metadata": {},
     "output_type": "execute_result"
    }
   ],
   "source": [
    "style = \"\"\"\n",
    "{selector} {{ background: beige; color: gray }}\n",
    "{selector} .monoseq-margin {{ font-style: italic; color: green }}\n",
    "{selector} .monoseq-annotation-0 {{ color: blue; font-weight: bold }}\n",
    "\"\"\"\n",
    "\n",
    "Seq(s, style=style, annotations=[conserved])"
   ]
  },
  {
   "cell_type": "markdown",
   "metadata": {},
   "source": [
    "See the string in `monoseq.ipynb.DEFAULT_STYLE` for a longer example."
   ]
  }
 ],
 "metadata": {
  "kernelspec": {
   "display_name": "Python 2",
   "language": "python",
   "name": "python2"
  },
  "language_info": {
   "codemirror_mode": {
    "name": "ipython",
    "version": 2
   },
   "file_extension": ".py",
   "mimetype": "text/x-python",
   "name": "python",
   "nbconvert_exporter": "python",
   "pygments_lexer": "ipython2",
   "version": "2.7.9"
  }
 },
 "nbformat": 4,
 "nbformat_minor": 0
}
